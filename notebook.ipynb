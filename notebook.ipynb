{
 "cells": [
  {
   "cell_type": "markdown",
   "id": "440f05be8721faf5",
   "metadata": {},
   "source": [
    "# Introduction to machine learning in molecular chemistry\n",
    "\n",
    "Machine learning (ML) is an important tool for novel drug design. Using mathematical models to select molecules for laboratory testing allows pharma companies to save time and money, and shorten time-to-market for new drugs.\n",
    "\n",
    "This tutorial is a short introduction to molecular property prediction, a key area in novel drug design. The goal is to create a predictive model that is able to accurately predict certain properties of molecules, based on historical experimental data. Such properties include, e.g., bioactivity, toxicity, or solubility."
   ]
  },
  {
   "cell_type": "markdown",
   "id": "de4c002d-f545-4f91-8f56-3437f68d465b",
   "metadata": {},
   "source": [
    "## Data loading and splitting\n",
    "\n",
    "We provided files for a dataset that we authored, [ApisTox](https://www.nature.com/articles/s41597-024-04232-w). It concerns predicting toxicity of pesticides to honey bees. Molecules are provided in standard SMILES text format, which encodes atoms (e.g. their elements), bonds, and graph structure. The task is binary classification - non-toxic (0) or toxic (1).\n",
    "\n",
    "Such historical data is based on laboratory tests on molecules, but for new ones, we can build ML models to predict that _in silico_. This is particularly relevant for toxicity studies, which typically require killing things. For example, LD50 (median lethal dose) toxicity value is the dose required to kill half the members of a tested population.\n",
    "\n",
    "Let's load the data and see an example entry."
   ]
  },
  {
   "cell_type": "code",
   "execution_count": null,
   "id": "9e52f204b05af26a",
   "metadata": {
    "ExecuteTime": {
     "end_time": "2025-10-14T13:46:16.376968Z",
     "start_time": "2025-10-14T13:46:16.367774Z"
    }
   },
   "outputs": [],
   "source": [
    "import pandas as pd\n",
    "\n",
    "apistox = pd.read_csv(\"data/apistox_full.csv\")\n",
    "\n",
    "smiles_apistox = apistox[\"SMILES\"]\n",
    "y_apistox = apistox[\"label\"]\n",
    "\n",
    "print(smiles_apistox[0])\n",
    "print(y_apistox[0])"
   ]
  },
  {
   "cell_type": "markdown",
   "id": "2d1df3c2-1dc0-433c-9eeb-64f8c75bca39",
   "metadata": {},
   "source": [
    "SMILES is the standard format for storing molecules as text. To work with this data, we need to parse it as **molecular graphs**, i.e. load the actual atoms, bonds, and the compound structure. We use the [RDKit library](https://www.rdkit.org/docs/GettingStartedInPython.html) for that. Then, we can also visualize it.\n",
    "\n",
    "Based on those structures, we need to learn the structure-label relationship with machine learning. Then, for new molecules, we want to predict the label. This is based on the idea of **molecular similarity principle** - structurally alike compounds should have similar properties."
   ]
  },
  {
   "cell_type": "code",
   "execution_count": null,
   "id": "dd4f8463-15b3-4671-83a1-d01034273b83",
   "metadata": {
    "ExecuteTime": {
     "end_time": "2025-10-14T13:46:17.622846Z",
     "start_time": "2025-10-14T13:46:17.421168Z"
    }
   },
   "outputs": [],
   "source": [
    "from rdkit.Chem import MolFromSmiles\n",
    "from rdkit.Chem.Draw import MolToImage\n",
    "\n",
    "mol = MolFromSmiles(smiles_apistox[0])\n",
    "\n",
    "print(mol)\n",
    "\n",
    "MolToImage(mol)"
   ]
  },
  {
   "cell_type": "markdown",
   "id": "76d5ef8e-3fd5-4162-96d7-ccab89452efd",
   "metadata": {},
   "source": [
    "Now to do this for all molecules, we can use the list comprehension, as shown below. However, scikit-fingerprints offers an easier way, which we will explore below.\n",
    "\n",
    "RDKit sometimes prints a lot of warnings about hydrogens - this can be safely ignored."
   ]
  },
  {
   "cell_type": "code",
   "execution_count": null,
   "id": "f0a06cb6-8678-46f2-ba95-60722cfbdc7c",
   "metadata": {
    "ExecuteTime": {
     "end_time": "2025-10-14T13:46:28.051274Z",
     "start_time": "2025-10-14T13:46:27.957811Z"
    },
    "scrolled": true
   },
   "outputs": [],
   "source": [
    "mols_apistox = [MolFromSmiles(smiles) for smiles in smiles_apistox]"
   ]
  },
  {
   "cell_type": "markdown",
   "id": "dff845e827c08fc6",
   "metadata": {},
   "source": [
    "### Scikit-fingerprints API\n",
    "\n",
    "Scikit-fingerprints is based on the scikit-learn interface (API), which primarily means:\n",
    "\n",
    "1. Many elements (e.g. molecular fingerprints, filters) are represented as Python classes.\n",
    "2. Constructor parameters control the general behavior, and act as hyperparameters in ML.\n",
    "3. Primary methods are:\n",
    "   - `.fit()` - learn from data, e.g. train model\n",
    "   - `.transform()` - transform data, e.g. turn molecules into feature vectors\n",
    "   - `.predict()` - predict for new data using trained model\n",
    "4. It's fully interoperable with scikit-learn and other libraries in that ecosystem.\n",
    "\n",
    "In scikit-fingerprints, we primarily use the `.transform()` interface to process molecules. For example, you can:\n",
    "- parse SMILES as `Mol` objects\n",
    "- extract features from molecules, turning `Mol` into NumPy arrays\n",
    "- combine multiple vector representations\n",
    "- tune hyperparameters of this process\n",
    "\n",
    "---\n",
    "\n",
    "Many drugs directly affect the central nervous system and brain. They need to go through the blood-brain barrier, known as BBBP property. The [BBBP dataset](https://pubs.acs.org/doi/10.1021/ci300124c), published as part of [MoleculeNet benchmark](https://pubs.rsc.org/en/content/articlelanding/2018/sc/c7sc02664a), provides such data.\n",
    "\n",
    "This dataset is built into our [scikit-fingerprints](https://scikit-fingerprints.readthedocs.io/latest/index.html) library, which we will be using for majority of the tutorial. Dataset loading functions follow scikit-learn conventions, and here we will use the [load_bbbp() function](https://scikit-fingerprints.readthedocs.io/latest/modules/datasets/generated/skfp.datasets.moleculenet.load_bbbp.html).\n",
    "\n",
    "It returns two values:\n",
    "- list of molecules in SMILES format\n",
    "- labels (here 0/1, permeates blood-brain barrier or not)\n",
    "\n",
    "**Exercise 1**\n",
    "\n",
    "1. Load smiles strings and labels of the bbbp dataset using `load_bbbp()` function from scikit-fingerprints. Store SMILES strings as `smiles_list` and labels as `y_bbbp`\n",
    "2. Import relevant class from [skfp.preprocessing module](https://scikit-fingerprints.readthedocs.io/stable/modules/preprocessing.html), using the documentation.\n",
    "3. Create the object instance. You don't need to provide any arguments, but we often use `suppress_warnings`.\n",
    "4. Pass the SMILES list to `.transform()` method. It returns a list of `Mol` objects. Store the resulting list in `mols` variable.\n",
    "5. Display an example molecule."
   ]
  },
  {
   "cell_type": "code",
   "execution_count": null,
   "id": "d4d9651b628607ec",
   "metadata": {
    "ExecuteTime": {
     "end_time": "2025-10-09T09:55:54.294704Z",
     "start_time": "2025-10-09T09:55:54.069143Z"
    },
    "scrolled": true
   },
   "outputs": [],
   "source": []
  },
  {
   "cell_type": "markdown",
   "id": "10b87cb9010c5627",
   "metadata": {},
   "source": [
    "Great. We have an expressive molecular representation that can be processed by algorithms. Now we need a train-test set, to have data to learn from, and to test model generalization on. In novel drug design, we know that future compounds will be structurally different - we want to discover new things, after all.\n",
    "\n",
    "Additionally, random split would overestimate the performance. This is because it can put very similar molecules in train and test set. By assumption of molecular similarity principle, they have similar properties, so that would be artificially easy. See an example:"
   ]
  },
  {
   "cell_type": "code",
   "execution_count": null,
   "id": "00c80011-0efb-47b6-9abd-2945a2e74967",
   "metadata": {},
   "outputs": [],
   "source": [
    "from rdkit.Chem.Draw import MolsToGridImage\n",
    "\n",
    "\n",
    "MolsToGridImage(\n",
    "    [MolFromSmiles(\"ClC1=CC=CC=C1\"), MolFromSmiles(\"BrC1=CC=CC=C1\")], \n",
    "    useSVG=True\n",
    ")"
   ]
  },
  {
   "cell_type": "markdown",
   "id": "ce151752-bc4f-44c3-9d5f-8fe1933e23f9",
   "metadata": {},
   "source": [
    "How can we help that? One way is using **Bemis-Murcko scaffolds** for splitting ([additional materials](https://docs.chemaxon.com/display/docs/jklustor_bemis-murcko-clustering.md)). They extract a \"backbone\" shape of the molecule, by removing outlying atoms and functional groups. Then, we group molecules by scaffold, and the smallest groups are put in the test set. This generally ensures that train and test sets are quite different structurally.\n",
    "\n",
    "Let's see an example of scaffolds of those two molecules from above:"
   ]
  },
  {
   "cell_type": "code",
   "execution_count": null,
   "id": "36d50351-770d-43be-ab8c-0ccae7fc2d62",
   "metadata": {},
   "outputs": [],
   "source": [
    "from rdkit.Chem.Scaffolds.MurckoScaffold import GetScaffoldForMol\n",
    "\n",
    "\n",
    "MolsToGridImage(\n",
    "    [GetScaffoldForMol(MolFromSmiles(\"ClC1=CC=CC=C1\")), GetScaffoldForMol(MolFromSmiles(\"BrC1=CC=CC=C1\"))], \n",
    "    useSVG=True\n",
    ")"
   ]
  },
  {
   "cell_type": "markdown",
   "id": "7b1dd9cf-d75e-4f3c-8aab-df6a83b773f3",
   "metadata": {},
   "source": [
    "So they would be in the same group - train or test. Scikit-fingerprints provides [a few different algorithms](https://scikit-fingerprints.readthedocs.io/latest/modules/model_selection.html) for train-test splitting, including scaffold split. They are used very similar to scikit-learn random split.\n",
    "\n",
    "For ApisTox, we also included the time split, based on literature data of pesticides, which serves a similar purpose. However, it's better suited for salts, which are disconnected graphs, for which scaffold split is not well-defined."
   ]
  },
  {
   "cell_type": "code",
   "execution_count": null,
   "id": "8f690c6f-0cd1-4deb-a273-8acc0309699a",
   "metadata": {},
   "outputs": [],
   "source": [
    "import pandas as pd\n",
    "\n",
    "\n",
    "df_apistox_train = pd.read_csv(\"data/apistox_time_train.csv\")\n",
    "df_apistox_test = pd.read_csv(\"data/apistox_time_test.csv\")\n",
    "\n",
    "smiles_apistox_train = df_apistox_train[\"SMILES\"]\n",
    "smiles_apistox_test = df_apistox_test[\"SMILES\"]\n",
    "\n",
    "y_apistox_train = df_apistox_train[\"label\"]\n",
    "y_apistox_test = df_apistox_test[\"label\"]\n",
    "\n",
    "mol_from_smiles = MolFromSmilesTransformer(suppress_warnings=True)\n",
    "mols_apistox_train = mol_from_smiles.transform(smiles_apistox_train)\n",
    "mols_apistox_test = mol_from_smiles.transform(smiles_apistox_test)"
   ]
  },
  {
   "cell_type": "markdown",
   "id": "f3028c3c-4f06-420e-ae3c-776e95c303b9",
   "metadata": {},
   "source": [
    "**Exercise 2**\n",
    "\n",
    "Use `scaffold_train_test_split` from scikit-fingerprints module to split the BBBP data into train and test sets, with 20% of data for testing.\n",
    "\n",
    "Visualize an example scaffold from train and test sets."
   ]
  },
  {
   "cell_type": "code",
   "execution_count": null,
   "id": "30288b9079cea7d0",
   "metadata": {
    "ExecuteTime": {
     "end_time": "2025-10-09T09:55:54.562087Z",
     "start_time": "2025-10-09T09:55:54.320556Z"
    }
   },
   "outputs": [],
   "source": []
  },
  {
   "cell_type": "markdown",
   "id": "d90af57cd1aecb7c",
   "metadata": {},
   "source": [
    "## Molecular fingerprints\n",
    "\n",
    "Nearly all predictive ML models work on fixed-size vectors, representing our data in vector space. They work under the assumption that close objects are similar, and different classes should be preferably far from each other. Molecular graphs are non-Euclidean, permutation-invariant, and vary in size, so for ML we first need feature extraction.\n",
    "\n",
    "Molecular fingerprints are feature extraction algorithms. They transform molecular graphs to feature vectors, extracting meaningful features from the graph. They are typically based on:\n",
    "\n",
    "1. Mathematical graph features, e.g. subgraphs, paths, walks.\n",
    "\n",
    "2. Substructures meaningful for chemists, e.g. functional groups, rings, particular atoms.\n",
    "\n",
    "3. Physicochemical descriptors, e.g. elements distribution, mass, charge, surface area.\n",
    "\n",
    "In this tutorial, we focus on types 1 and 2, as more easily understandable to non-chemists. They also tend to work very well for many problems.\n",
    "\n",
    "Let's see an example of substructure fingerprint, defined by expert chemists - MACCS Keys. Visually:\n",
    "\n",
    "<img src=\"images/maccs.png\" alt=\"Drawing\" style=\"width: 500px;\"/>\n",
    "\n",
    "Image source: [\"Chemical Data Formats, Fingerprints, and Other Molecular Descriptions for Database Analysis and Searching\" D. Bajusz et al.](https://www.researchgate.net/publication/315513438_Chemical_Data_Formats_Fingerprints_and_Other_Molecular_Descriptions_for_Database_Analysis_and_Searching)\n",
    "\n",
    "It is implemented in [skfp.fingerprints module](https://scikit-fingerprints.readthedocs.io/latest/modules/fingerprints.html). Note that we can easily **parallelize** distribution to use many cores with `n_jobs` parameter (`-1` means using all cores)."
   ]
  },
  {
   "cell_type": "code",
   "execution_count": null,
   "id": "32ca913827cd906f",
   "metadata": {
    "ExecuteTime": {
     "end_time": "2025-10-09T09:56:00.676999Z",
     "start_time": "2025-10-09T09:55:54.606476Z"
    }
   },
   "outputs": [],
   "source": [
    "from skfp.fingerprints import MACCSFingerprint\n",
    "\n",
    "# create fingerprint transformer object\n",
    "fp_maccs = MACCSFingerprint(n_jobs=-1)\n",
    "\n",
    "# transform molecules into feature vectors|\n",
    "X_apistox_train_maccs = fp_maccs.transform(mols_apistox_train)\n",
    "X_apistox_test_maccs = fp_maccs.transform(mols_apistox_test)\n",
    "\n",
    "print(f\"Fingerprint data shape: {X_apistox_train_maccs.shape}\")\n",
    "print(f\"Example vector: {X_apistox_train_maccs[0]}\")"
   ]
  },
  {
   "cell_type": "markdown",
   "id": "d37a5798-29ae-4f01-ac91-4e7cb235d326",
   "metadata": {},
   "source": [
    "With this, we turned our graph classification problem into tabular classification! Now we can use any typical algorithms from scikit-learn to fit and evaluate the model. Molecular datasets are almost always imbalanced, so metrics like [AUROC](https://scikit-learn.org/stable/modules/generated/sklearn.metrics.roc_auc_score.html) are used.\n",
    "\n",
    "We can also compare the result with [our paper on predicting pesticides' toxicity with ApisTox](https://arxiv.org/abs/2503.24305)."
   ]
  },
  {
   "cell_type": "code",
   "execution_count": null,
   "id": "f7182feb-2e7f-47dd-87a0-ccb20e8d8370",
   "metadata": {},
   "outputs": [],
   "source": [
    "from sklearn.ensemble import RandomForestClassifier\n",
    "from sklearn.metrics import roc_auc_score\n",
    "\n",
    "clf = RandomForestClassifier(n_jobs=-1, random_state=0)\n",
    "clf.fit(X_apistox_train_maccs, y_apistox_train)\n",
    "\n",
    "y_pred_proba = clf.predict_proba(X_apistox_test_maccs)[:, 1]\n",
    "auroc = roc_auc_score(y_apistox_test, y_pred_proba)\n",
    "\n",
    "print(f\"AUROC: {auroc:.2%}\")"
   ]
  },
  {
   "cell_type": "markdown",
   "id": "c95dfde966f0e901",
   "metadata": {},
   "source": [
    "**Exercise 3**\n",
    "\n",
    "[Extended Connectivity FingerPrint (ECFP)](https://docs.chemaxon.com/display/docs/fingerprints_extended-connectivity-fingerprint-ecfp.md) is arguably the most commonly used fingeprint. It uses circular neighborhoods as features, which is simple, fast, yet often gives state-of-the-art (SOTA) results.\n",
    "\n",
    "Calculating circular neighborhoods:\n",
    "\n",
    "<img src=\"images/ecfp.png\" alt=\"Drawing\" style=\"width: 500px;\"/>\n",
    "\n",
    "Above image is reprinted with permission from: David Rogers and Mathew Hahn \"Extended-Connectivity Fingerprints\". Journal of Chemical Information and Modeling, 50(5):742–754, 2010. Copyright 2010 American Chemical Society.\n",
    "\n",
    "Those subgraphs are then turned into integer identifiers:\n",
    "\n",
    "<img src=\"images/ecfp_generation.png\" alt=\"Drawing\" style=\"width: 1000px;\"/>\n",
    "\n",
    "Those integers are hashed, using modulo operation, onto the feature vector:\n",
    "\n",
    "<img src=\"images/ecfp_folding.png\" alt=\"Drawing\" style=\"width: 1000px;\"/>\n",
    "\n",
    "Above two images come from [ChemAxon ECFP documentation](https://docs.chemaxon.com/display/docs/fingerprints_extended-connectivity-fingerprint-ecfp.md).\n",
    "\n",
    "1. Import and calculate the ECFP fingerprint from `skfp.fingerprints`.\n",
    "2. Create the fingerprint in two variants:\n",
    "   - default parameters\n",
    "   - with `count=True`, to count substructures, rather than just detecting them\n",
    "3. Transform train and test molecules for BBBP dataset into matrices `X_bbbp_train`, `X_bbbp_test`, `X_bbbp_count_train`, `X_bbbp_count_test`.\n",
    "4. Train Random Forest classifiers on both cases and make predictions for test data.\n",
    "5. Compare the results on AUROC metric."
   ]
  },
  {
   "cell_type": "code",
   "execution_count": null,
   "id": "9022cccee9bb2ba4",
   "metadata": {
    "ExecuteTime": {
     "end_time": "2025-10-09T09:56:00.785037Z",
     "start_time": "2025-10-09T09:56:00.690167Z"
    }
   },
   "outputs": [],
   "source": []
  },
  {
   "cell_type": "markdown",
   "id": "a4dc91f108ddc4d2",
   "metadata": {},
   "source": [
    "## Distances and similarities\n",
    "\n",
    "Molecular fingerprints are often very high-dimensional vectors and very sparse, often with >95% zero values. Euclidean distance does not work well with such data, yet we need distance measurements in ML, for example for:\n",
    "\n",
    "- kNN classification & regression\n",
    "\n",
    "- similarity searching\n",
    "\n",
    "- density-based clustering, e.g. DBSCAN, HDBSCAN\n",
    "\n",
    "- nonparametric visualization, e.g. UMAP, t-SNE\n",
    "\n",
    "There are a lot of similarity and distance measures for **binary and count data**, and scikit-fingerprints implements them in [skfp.distances module](https://scikit-fingerprints.readthedocs.io/latest/modules/distances.html).\n",
    "\n",
    "The most popular one is **Tanimoto similarity**, which for two binary vector is defined as intersection over union of bits:\n",
    "\n",
    "$$\n",
    "\\text{sim}_{Tanimoto}(\\vec{a}, \\vec{b}) = \\frac{|\\vec{a} \\cap \\vec{b}|}{|\\vec{a} \\cup \\vec{b}|}\n",
    "$$\n",
    "\n",
    "It can also be easily transformed into a distance:\n",
    "\n",
    "$$\n",
    "\\text{dist}_{Tanimoto}(\\vec{a}, \\vec{b}) = 1 - \\frac{|\\vec{a} \\cap \\vec{b}|}{|\\vec{a} \\cup \\vec{b}|}\n",
    "$$\n",
    "\n",
    "Further, it can be extended for count vectors:\n",
    "\n",
    "$$\n",
    "\\text{sim}_{count\\_Tanimoto}(\\vec{a}, \\vec{b}) = \\frac{\\vec{a} \\cdot \\vec{b}}{\\|\\vec{a}\\|^2 + \\|\\vec{b}\\|^2 - \\vec{a} \\cdot \\vec{b}}\n",
    "$$\n",
    "\n",
    "If you're interested why Tanimoto distance is used, see e.g. [\"Why is Tanimoto index an appropriate choice for fingerprint-based similarity calculations?\" D. Bajusz et al.](https://doi.org/10.1186/s13321-015-0069-3)"
   ]
  },
  {
   "cell_type": "code",
   "execution_count": null,
   "id": "ab6a9bfb9263da5a",
   "metadata": {
    "ExecuteTime": {
     "end_time": "2025-10-09T09:56:00.925479Z",
     "start_time": "2025-10-09T09:56:00.921883Z"
    }
   },
   "outputs": [],
   "source": [
    "from skfp.distances import tanimoto_count_distance\n",
    "\n",
    "print(X_apistox_train_maccs[0])\n",
    "print(X_apistox_train_maccs[3])\n",
    "\n",
    "tanimoto_count_distance(X_apistox_train_maccs[0], X_apistox_train_maccs[3])"
   ]
  },
  {
   "cell_type": "markdown",
   "id": "6393c614e99f16c5",
   "metadata": {},
   "source": [
    "**Exercise 4**\n",
    "\n",
    "1. Import binary and count Tanimoto distance from [skfp.distances module](https://scikit-fingerprints.readthedocs.io/latest/modules/distances.html).\n",
    "2. Train the kNN classifier from scikit-learn for BBBP dataset. Distance functions are passed as the `metric` argument to the class constructor. Also note that `n_jobs=-1` is very useful here. Use the ECFP fingerprints calculated above.\n",
    "3. Compare AUROC between binary and count variants."
   ]
  },
  {
   "cell_type": "code",
   "execution_count": null,
   "id": "912fcbf797125f37",
   "metadata": {
    "ExecuteTime": {
     "end_time": "2025-10-09T09:56:06.609463Z",
     "start_time": "2025-10-09T09:56:00.955062Z"
    }
   },
   "outputs": [],
   "source": []
  },
  {
   "cell_type": "markdown",
   "id": "bde228b2-3bcc-46f0-bda7-123bef77bcd2",
   "metadata": {},
   "source": [
    "## Peptide function prediction"
   ]
  },
  {
   "cell_type": "markdown",
   "id": "61ff00d3-8e7f-4ccb-9330-d67eba1f5c4c",
   "metadata": {},
   "source": [
    "Peptides are small proteins, which are also therapeutic targets, similar to small compounds. We can also analyze them as molecular graphs, albeit quite large. Still, we can use molecular fingerprints, in particular count variants, that achieve state-of-the-art (SOTA) results, as we have shown in our paper [\"Molecular Fingerprints Are Strong Models for Peptide Function Prediction\" J. Adamczyk et al.](https://arxiv.org/abs/2501.17901)\n",
    "\n",
    "**Exercise 5**\n",
    "\n",
    "We will use the [dataset by Xu et al.](https://academic.oup.com/bib/article/22/5/bbab083/6189771), also known as XUAMP. The task is to predict whether a peptide has antimicrobial properties (AMP) or not. Basically the only difference from prior case is that here amino acid sequences are used instead of the SMILES format.\n",
    "\n",
    "1. Load the XUAMP dataset from `data/xuamp_train.csv` and `data/xuamp_test.csv`.\n",
    "2. Parse amino acid sequences as molecules with appropriate class from [skfp.preprocessing module](https://scikit-fingerprints.readthedocs.io/latest/modules/preprocessing.html).\n",
    "3. Calculate ECFP count fingerprints.\n",
    "4. Train the [LightGBM classifier](https://lightgbm.readthedocs.io/en/latest/pythonapi/lightgbm.LGBMClassifier.html).\n",
    "5. Evaluate it using AUROC.\n",
    "6. Compare the results with our paper.\n",
    "\n",
    "You can also use [scikit-learn Pipeline](https://scikit-learn.org/stable/modules/generated/sklearn.pipeline.Pipeline.html) for cleaner, shorter code. Scikit-fingerprints is fully integrated with its capabilities. You can provide `verbose=-1` option to `LGBMClassifier` to turn off its logs, which are pretty verbose."
   ]
  },
  {
   "cell_type": "code",
   "execution_count": null,
   "id": "fe25bfbee4825ce6",
   "metadata": {},
   "outputs": [],
   "source": []
  },
  {
   "cell_type": "code",
   "execution_count": null,
   "id": "2d090af8-5d6a-4eef-a6bf-45520f6d3705",
   "metadata": {},
   "outputs": [],
   "source": []
  }
 ],
 "metadata": {
  "kernelspec": {
   "display_name": "Python 3 (ipykernel)",
   "language": "python",
   "name": "python3"
  },
  "language_info": {
   "codemirror_mode": {
    "name": "ipython",
    "version": 3
   },
   "file_extension": ".py",
   "mimetype": "text/x-python",
   "name": "python",
   "nbconvert_exporter": "python",
   "pygments_lexer": "ipython3",
   "version": "3.12.11"
  }
 },
 "nbformat": 4,
 "nbformat_minor": 5
}
