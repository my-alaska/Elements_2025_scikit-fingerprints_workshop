{
 "cells": [
  {
   "metadata": {},
   "cell_type": "markdown",
   "source": "## Load dataset",
   "id": "440f05be8721faf5"
  },
  {
   "cell_type": "code",
   "id": "initial_id",
   "metadata": {
    "collapsed": true,
    "ExecuteTime": {
     "end_time": "2025-10-09T09:55:54.052137Z",
     "start_time": "2025-10-09T09:55:53.686508Z"
    }
   },
   "source": [
    "from skfp.datasets.moleculenet import load_bace\n",
    "\n",
    "smiles_list, y = load_bace()\n",
    "\n",
    "print(f\"Example molecule: {smiles_list[0]}\")\n",
    "print(f\"Example class: {y[0]}\")"
   ],
   "outputs": [
    {
     "name": "stdout",
     "output_type": "stream",
     "text": [
      "Example molecule: O1CC[C@@H](NC(=O)[C@@H](Cc2cc3cc(ccc3nc2N)-c2ccccc2C)C)CC1(C)C\n",
      "Example class: 1\n"
     ]
    }
   ],
   "execution_count": 14
  },
  {
   "metadata": {},
   "cell_type": "markdown",
   "source": "### Transform SMILES representation to molecular graphs",
   "id": "dff845e827c08fc6"
  },
  {
   "metadata": {
    "ExecuteTime": {
     "end_time": "2025-10-09T09:55:54.294704Z",
     "start_time": "2025-10-09T09:55:54.069143Z"
    }
   },
   "cell_type": "code",
   "source": [
    "from skfp.preprocessing import MolFromSmilesTransformer\n",
    "\n",
    "mol_from_smiles = MolFromSmilesTransformer()\n",
    "\n",
    "mols = mol_from_smiles.transform(smiles_list)\n",
    "mols[0]"
   ],
   "id": "d4d9651b628607ec",
   "outputs": [
    {
     "data": {
      "text/plain": [
       "<rdkit.Chem.rdchem.Mol at 0x156cf579ee0>"
      ],
      "image/png": "[encoded data removed]"
     },
     "execution_count": 15,
     "metadata": {},
     "output_type": "execute_result"
    }
   ],
   "execution_count": 15
  },
  {
   "metadata": {},
   "cell_type": "markdown",
   "source": [
    "### Split the data\n",
    "\n",
    "How it's done normally"
   ],
   "id": "10b87cb9010c5627"
  },
  {
   "metadata": {
    "ExecuteTime": {
     "end_time": "2025-10-09T09:55:54.313078Z",
     "start_time": "2025-10-09T09:55:54.302373Z"
    }
   },
   "cell_type": "code",
   "source": [
    "from sklearn.model_selection import train_test_split\n",
    "import numpy as np\n",
    "\n",
    "train_idxs, test_idxs = train_test_split(range(len(smiles_list)), test_size=0.2)\n",
    "\n",
    "mols_train = np.array(mols)[train_idxs]\n",
    "mols_test = np.array(mols)[test_idxs]\n",
    "\n",
    "y_train = y[train_idxs]\n",
    "y_test = y[test_idxs]\n",
    "\n",
    "print(f\"Train set size: {len(mols_train)}\")\n",
    "print(f\"Test set size: {len(mols_test)}\")"
   ],
   "id": "7a805f0c30da875b",
   "outputs": [
    {
     "name": "stdout",
     "output_type": "stream",
     "text": [
      "Train set size: 1210\n",
      "Test set size: 303\n"
     ]
    }
   ],
   "execution_count": 16
  },
  {
   "metadata": {},
   "cell_type": "markdown",
   "source": [
    "How it's done in chemoinformatics and why\n",
    "\n",
    "exercise - import scaffold split, pass molecules, there's an argument that will allow you to return split indices"
   ],
   "id": "5a3658bedfb9a9b"
  },
  {
   "metadata": {
    "ExecuteTime": {
     "end_time": "2025-10-09T09:55:54.562087Z",
     "start_time": "2025-10-09T09:55:54.320556Z"
    }
   },
   "cell_type": "code",
   "source": [
    "import numpy as np\n",
    "from skfp.model_selection import scaffold_train_test_split\n",
    "\n",
    "train_idxs, test_idxs = scaffold_train_test_split(\n",
    "    mols, test_size=0.2, return_indices=True\n",
    ")\n",
    "\n",
    "# split mols and labels\n",
    "mols_train = np.array(mols)[train_idxs]\n",
    "mols_test = np.array(mols)[test_idxs]\n",
    "\n",
    "y_train = y[train_idxs]\n",
    "y_test = y[test_idxs]\n",
    "\n",
    "print(f\"Train set size: {len(mols_train)}\")\n",
    "print(f\"Test set size: {len(mols_test)}\")"
   ],
   "id": "30288b9079cea7d0",
   "outputs": [
    {
     "name": "stdout",
     "output_type": "stream",
     "text": [
      "Train set size: 1210\n",
      "Test set size: 303\n"
     ]
    }
   ],
   "execution_count": 17
  },
  {
   "metadata": {},
   "cell_type": "markdown",
   "source": "If we try to pass molecules to a model it won't work",
   "id": "3cfca9d2f0a94668"
  },
  {
   "metadata": {
    "ExecuteTime": {
     "end_time": "2025-10-09T09:55:54.579935Z",
     "start_time": "2025-10-09T09:55:54.576877Z"
    }
   },
   "cell_type": "code",
   "source": [
    "from sklearn.ensemble import RandomForestClassifier\n",
    "\n",
    "try:\n",
    "    clf = RandomForestClassifier(n_jobs=-1, random_state=0)\n",
    "    clf.fit(mols_train, y_train)\n",
    "except TypeError as error:\n",
    "    print(error)"
   ],
   "id": "5a0fe65ea5e91d50",
   "outputs": [
    {
     "name": "stdout",
     "output_type": "stream",
     "text": [
      "float() argument must be a string or a real number, not 'Mol'\n"
     ]
    }
   ],
   "execution_count": 18
  },
  {
   "metadata": {},
   "cell_type": "markdown",
   "source": "We need to represent the data as vectors!",
   "id": "47111e29e313762c"
  },
  {
   "metadata": {},
   "cell_type": "markdown",
   "source": "A few slides about Fingerprints to give a general idea of what we want the algorithms to do, and example fingerprint at the end",
   "id": "d90af57cd1aecb7c"
  },
  {
   "metadata": {
    "ExecuteTime": {
     "end_time": "2025-10-09T09:56:00.676999Z",
     "start_time": "2025-10-09T09:55:54.606476Z"
    }
   },
   "cell_type": "code",
   "source": [
    "from skfp.fingerprints import MACCSFingerprint\n",
    "\n",
    "# create fingerprint transformer object\n",
    "maccs_fp = MACCSFingerprint(n_jobs=-1)\n",
    "\n",
    "# transform molecules into feature vectors\n",
    "X_train_maccs = maccs_fp.transform(mols_train)\n",
    "X_test_maccs = maccs_fp.transform(mols_test)\n",
    "\n",
    "print(f\"Fingerprint data shape: {X_train_maccs.shape}\")\n",
    "print(f\"Example vector: {X_train_maccs[0]}\")"
   ],
   "id": "32ca913827cd906f",
   "outputs": [
    {
     "name": "stdout",
     "output_type": "stream",
     "text": [
      "Fingerprint data shape: (1210, 166)\n",
      "Example vector: [0 0 0 0 0 0 0 0 0 0 0 0 0 0 0 0 0 0 0 0 0 1 0 0 0 0 0 0 0 0 0 0 0 0 0 1 0\n",
      " 1 0 0 0 0 0 0 0 0 0 0 1 0 0 0 0 0 0 0 0 0 0 0 0 0 0 0 0 1 0 0 0 0 0 0 0 1\n",
      " 0 0 1 1 0 0 0 0 1 0 0 0 1 1 0 0 1 0 0 0 1 1 0 1 0 0 1 0 1 1 1 0 1 0 0 0 1\n",
      " 1 0 0 1 0 0 1 1 1 1 0 1 0 1 0 0 1 1 0 0 0 1 1 0 0 1 0 0 0 0 1 0 1 1 0 1 0\n",
      " 1 1 1 0 0 1 1 1 1 1 1 1 1 1 1 1 1 0]\n"
     ]
    }
   ],
   "execution_count": 19
  },
  {
   "metadata": {},
   "cell_type": "markdown",
   "source": [
    "Explain hashed fingerprints and count here\n",
    "\n",
    "Exercise - use another fingerprint - ECFP in count variant."
   ],
   "id": "c95dfde966f0e901"
  },
  {
   "metadata": {
    "ExecuteTime": {
     "end_time": "2025-10-09T09:56:00.785037Z",
     "start_time": "2025-10-09T09:56:00.690167Z"
    }
   },
   "cell_type": "code",
   "source": [
    "from skfp.fingerprints import ECFPFingerprint\n",
    "\n",
    "# create fingerprint transformer object\n",
    "ecfp_fp = ECFPFingerprint(radius=3, count=True, fp_size=1024, n_jobs=-1)\n",
    "\n",
    "# transform molecules into feature vectors\n",
    "X_train_ecfp = ecfp_fp.transform(mols_train)\n",
    "X_test_ecfp = ecfp_fp.transform(mols_test)\n",
    "\n",
    "print(f\"Fingerprint data shape: {X_train_ecfp.shape}\")\n",
    "print(f\"Example vector: {X_train_ecfp[0]}\")"
   ],
   "id": "9022cccee9bb2ba4",
   "outputs": [
    {
     "name": "stdout",
     "output_type": "stream",
     "text": [
      "Fingerprint data shape: (1210, 1024)\n",
      "Example vector: [0 1 0 ... 0 0 0]\n"
     ]
    }
   ],
   "execution_count": 20
  },
  {
   "metadata": {},
   "cell_type": "markdown",
   "source": "Train a random forest model",
   "id": "bb5940663958a92e"
  },
  {
   "metadata": {
    "ExecuteTime": {
     "end_time": "2025-10-09T09:56:00.907483Z",
     "start_time": "2025-10-09T09:56:00.787051Z"
    }
   },
   "cell_type": "code",
   "source": [
    "from sklearn.ensemble import RandomForestClassifier\n",
    "from skfp.metrics import multioutput_auroc_score\n",
    "\n",
    "clf = RandomForestClassifier(n_jobs=-1, random_state=0)\n",
    "clf.fit(X_train_ecfp, y_train)\n",
    "\n",
    "y_pred = clf.predict_proba(X_test_ecfp)[:, 1]\n",
    "auroc = multioutput_auroc_score(y_test, y_pred)\n",
    "\n",
    "print(f\"ECFP AUROC for Random Forest: {auroc:.2%}\")"
   ],
   "id": "ac451943751f6a08",
   "outputs": [
    {
     "name": "stdout",
     "output_type": "stream",
     "text": [
      "ECFP AUROC for Random Forest: 76.87%\n"
     ]
    }
   ],
   "execution_count": 21
  },
  {
   "metadata": {},
   "cell_type": "markdown",
   "source": "Distances",
   "id": "a4dc91f108ddc4d2"
  },
  {
   "metadata": {
    "ExecuteTime": {
     "end_time": "2025-10-09T09:56:00.925479Z",
     "start_time": "2025-10-09T09:56:00.921883Z"
    }
   },
   "cell_type": "code",
   "source": [
    "# import Tanimoto count distance from scikit-fingerprints\n",
    "from sklearn.neighbors import KNeighborsClassifier\n",
    "from skfp.distances import tanimoto_count_distance\n",
    "\n",
    "tanimoto_count_distance(X_train_ecfp[0], X_train_ecfp[1])"
   ],
   "id": "ab6a9bfb9263da5a",
   "outputs": [
    {
     "data": {
      "text/plain": [
       "0.7264150943396226"
      ]
     },
     "execution_count": 22,
     "metadata": {},
     "output_type": "execute_result"
    }
   ],
   "execution_count": 22
  },
  {
   "metadata": {},
   "cell_type": "markdown",
   "source": [
    "Explain quickly what knn is, and that it takes a distance function as metric argument.\n",
    "\n",
    "Tell them"
   ],
   "id": "6393c614e99f16c5"
  },
  {
   "metadata": {
    "ExecuteTime": {
     "end_time": "2025-10-09T09:56:06.609463Z",
     "start_time": "2025-10-09T09:56:00.955062Z"
    }
   },
   "cell_type": "code",
   "source": [
    "# create kNN model with appropriate metric\n",
    "clf = KNeighborsClassifier(n_jobs=-1, metric=tanimoto_count_distance)\n",
    "\n",
    "# fit, predict\n",
    "clf.fit(X_train_ecfp, y_train)\n",
    "y_pred = clf.predict_proba(X_test_ecfp)[:, 1]\n",
    "\n",
    "# calculate and print AUROC score\n",
    "print(f\"ECFP AUROC for kNN: {multioutput_auroc_score(y_test, y_pred):.2%}\")"
   ],
   "id": "912fcbf797125f37",
   "outputs": [
    {
     "name": "stdout",
     "output_type": "stream",
     "text": [
      "ECFP AUROC for kNN: 77.64%\n"
     ]
    }
   ],
   "execution_count": 23
  },
  {
   "metadata": {
    "ExecuteTime": {
     "end_time": "2025-10-09T09:56:06.625711Z",
     "start_time": "2025-10-09T09:56:06.623320Z"
    }
   },
   "cell_type": "code",
   "source": "",
   "id": "56318c1d20bddf12",
   "outputs": [],
   "execution_count": null
  }
 ],
 "metadata": {
  "kernelspec": {
   "display_name": "Python 3",
   "language": "python",
   "name": "python3"
  },
  "language_info": {
   "codemirror_mode": {
    "name": "ipython",
    "version": 2
   },
   "file_extension": ".py",
   "mimetype": "text/x-python",
   "name": "python",
   "nbconvert_exporter": "python",
   "pygments_lexer": "ipython2",
   "version": "2.7.6"
  }
 },
 "nbformat": 4,
 "nbformat_minor": 5
}
