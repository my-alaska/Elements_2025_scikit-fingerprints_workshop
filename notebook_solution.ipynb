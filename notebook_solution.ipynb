{
 "cells": [
  {
   "cell_type": "markdown",
   "id": "440f05be8721faf5",
   "metadata": {},
   "source": [
    "# Introduction to machine learning in molecular chemistry\n",
    "\n",
    "Machine learning (ML) is an important tool for novel drug design. Using mathematical models to select molecules for laboratory testing allows pharma companies to save time and money, and shorten time-to-market for new drugs.\n",
    "\n",
    "This tutorial is a short introduction to molecular property prediction, a key area in novel drug design. The goal is to create a predictive model that is able to accurately predict certain properties of molecules, based on historical experimental data. Such properties include, e.g., bioactivity, toxicity, or solubility."
   ]
  },
  {
   "cell_type": "markdown",
   "id": "de4c002d-f545-4f91-8f56-3437f68d465b",
   "metadata": {},
   "source": [
    "## Data loading\n",
    "\n",
    "We provided files for another dataset that we authored, [ApisTox](https://www.nature.com/articles/s41597-024-04232-w). It concerns predicting toxicity of pesticides to honey bees. The procedure is exactly the same - pesticides are represented as SMILES, should be parsed as molecules, and the task is binary classification (toxic/non-toxic).\n",
    "\n",
    "Let's load the data and see an example entry."
   ]
  },
  {
   "cell_type": "code",
   "id": "9e52f204b05af26a",
   "metadata": {
    "execution": {
     "iopub.execute_input": "2025-10-12T20:57:24.751963Z",
     "iopub.status.busy": "2025-10-12T20:57:24.751870Z",
     "iopub.status.idle": "2025-10-12T20:57:25.792620Z",
     "shell.execute_reply": "2025-10-12T20:57:25.791923Z",
     "shell.execute_reply.started": "2025-10-12T20:57:24.751952Z"
    },
    "ExecuteTime": {
     "end_time": "2025-10-14T13:46:16.376968Z",
     "start_time": "2025-10-14T13:46:16.367774Z"
    }
   },
   "source": [
    "import pandas as pd\n",
    "\n",
    "apistox = pd.read_csv('data/apistox_full.csv')\n",
    "\n",
    "smiles_apistox = apistox[\"SMILES\"]\n",
    "y_apistox = apistox[\"label\"]\n",
    "\n",
    "print(smiles_apistox[1])\n",
    "print(y_apistox[1])"
   ],
   "outputs": [
    {
     "name": "stdout",
     "output_type": "stream",
     "text": [
      "Cc1ccc(C(C)C)cc1\n",
      "0\n"
     ]
    }
   ],
   "execution_count": 3
  },
  {
   "cell_type": "markdown",
   "id": "2d1df3c2-1dc0-433c-9eeb-64f8c75bca39",
   "metadata": {},
   "source": [
    "SMILES is the standard format for storing molecules as text. To work with this data, we need to parse it as **molecular graphs**, i.e. load the actual atoms, bonds, and the compound structure. We use the [RDKit library](https://www.rdkit.org/docs/GettingStartedInPython.html) for that. Then, we can also visualize it.\n",
    "\n",
    "Based on those structures, we need to learn the structure-label relationship with machine learning. Then, for new molecules, we want to predict the label. This is based on the idea of **molecular similarity principle** - structurally alike compounds should have similar properties."
   ]
  },
  {
   "cell_type": "code",
   "id": "dd4f8463-15b3-4671-83a1-d01034273b83",
   "metadata": {
    "execution": {
     "iopub.execute_input": "2025-10-12T20:57:25.793102Z",
     "iopub.status.busy": "2025-10-12T20:57:25.792962Z",
     "iopub.status.idle": "2025-10-12T20:57:25.871877Z",
     "shell.execute_reply": "2025-10-12T20:57:25.871428Z",
     "shell.execute_reply.started": "2025-10-12T20:57:25.793085Z"
    },
    "ExecuteTime": {
     "end_time": "2025-10-14T13:46:17.622846Z",
     "start_time": "2025-10-14T13:46:17.421168Z"
    }
   },
   "source": [
    "from rdkit.Chem import MolFromSmiles\n",
    "from rdkit.Chem.Draw import MolToImage\n",
    "\n",
    "mol = MolFromSmiles(smiles_apistox[1])\n",
    "\n",
    "print(mol)\n",
    "\n",
    "MolToImage(mol)"
   ],
   "outputs": [
    {
     "name": "stdout",
     "output_type": "stream",
     "text": [
      "<rdkit.Chem.rdchem.Mol object at 0x00000235CE5B7CA0>\n"
     ]
    },
    {
     "data": {
      "text/plain": [
       "<PIL.PngImagePlugin.PngImageFile image mode=RGB size=300x300>"
      ],
      "image/png": "[encoded data removed]",
      "image/jpeg": "[encoded data removed]"
     },
     "execution_count": 4,
     "metadata": {},
     "output_type": "execute_result"
    }
   ],
   "execution_count": 4
  },
  {
   "cell_type": "markdown",
   "id": "76d5ef8e-3fd5-4162-96d7-ccab89452efd",
   "metadata": {},
   "source": [
    "Now to do this for all molecules, we can use the list comprehension, as shown below. However, scikit-fingerprints offers an easier way, which we will explore below.\n",
    "\n",
    "RKit prints a lot of warnings about hydrogens - this can be safely ignored."
   ]
  },
  {
   "cell_type": "code",
   "id": "f0a06cb6-8678-46f2-ba95-60722cfbdc7c",
   "metadata": {
    "execution": {
     "iopub.execute_input": "2025-10-12T21:02:07.253581Z",
     "iopub.status.busy": "2025-10-12T21:02:07.253440Z",
     "iopub.status.idle": "2025-10-12T21:02:07.447419Z",
     "shell.execute_reply": "2025-10-12T21:02:07.446949Z",
     "shell.execute_reply.started": "2025-10-12T21:02:07.253571Z"
    },
    "scrolled": true,
    "ExecuteTime": {
     "end_time": "2025-10-14T13:46:28.051274Z",
     "start_time": "2025-10-14T13:46:27.957811Z"
    }
   },
   "source": "mols_apistox = [MolFromSmiles(smiles) for smiles in smiles_apistox]",
   "outputs": [],
   "execution_count": 5
  },
  {
   "cell_type": "markdown",
   "id": "dff845e827c08fc6",
   "metadata": {},
   "source": [
    "### Scikit-fingerprints API\n",
    "\n",
    "Scikit-fingerprints is based on the scikit-learn interface (API), which primarily means:\n",
    "\n",
    "1. Many elements (e.g. molecular fingerprints, filters) are represented as Python classes.\n",
    "2. Constructor parameters control the general behavior, and act as hyperparameters in ML.\n",
    "3. Primary methods are:\n",
    "   - `.fit()` - learn from data, e.g. train model\n",
    "   - `.transform()` - transform data, e.g. turn molecules into feature vectors\n",
    "   - `.predict()` - predict for new data using trained model\n",
    "4. It's fully interoperable with scikit-learn and other libraries in that ecosystem.\n",
    "\n",
    "In scikit-fingerprints, we primarily use the `.transform()` interface to process molecules. For example, you can:\n",
    "- parse SMILES as `Mol` objects\n",
    "- extract features from molecules, turning `Mol` into NumPy arrays\n",
    "- combine multiple vector representations\n",
    "- tune hyperparameters of this process\n",
    "\n",
    "---\n",
    "\n",
    "Many drugs directly affect the central nervous system and brain. They need to go through the blood-brain barrier, known as BBBP property. The [BBBP dataset](https://pubs.acs.org/doi/10.1021/ci300124c), published as part of [MoleculeNet benchmark](https://pubs.rsc.org/en/content/articlelanding/2018/sc/c7sc02664a). Historical data is based on laboratory tests on molecules, but for new ones, we can build ML models to predict that _in silico_.\n",
    "\n",
    "This dataset is built into our [scikit-fingerprints](https://scikit-fingerprints.readthedocs.io/latest/index.html) library, which we will be using for majority of the tutorial. Dataset loading functions follow scikit-learn conventions, and here we will use the [load_bbbp() function](https://scikit-fingerprints.readthedocs.io/latest/modules/datasets/generated/skfp.datasets.moleculenet.load_bbbp.html).\n",
    "\n",
    "It returns two values:\n",
    "- list of molecules in SMILES format\n",
    "- labels (here 0/1, permeates blood-brain barrier or not)\n",
    "\n",
    "**Exercise 1**\n",
    "\n",
    "1. Load smiles strings and labels of the bbbp dataset using `load_bbbp()` function from scikit-fingerprints. Store SMILES strings as `smiles_list` and labels as `y_bbbp`\n",
    "2. Import relevant class from [skfp.preprocessing module](https://scikit-fingerprints.readthedocs.io/stable/modules/preprocessing.html), using the documentation.\n",
    "3. Create the object instance. You don't need to provide any arguments, but we often use `suppress_warnings`.\n",
    "4. Pass the SMILES list to `.transform()` method. It returns a list of `Mol` objects. Store the resulting list in `mols` variable.\n",
    "5. Display an example molecule.\n"
   ]
  },
  {
   "cell_type": "code",
   "execution_count": 15,
   "id": "d4d9651b628607ec",
   "metadata": {
    "ExecuteTime": {
     "end_time": "2025-10-09T09:55:54.294704Z",
     "start_time": "2025-10-09T09:55:54.069143Z"
    }
   },
   "outputs": [
    {
     "data": {
      "image/png": "[encoded data removed]",
      "text/plain": [
       "<rdkit.Chem.rdchem.Mol at 0x156cf579ee0>"
      ]
     },
     "execution_count": 15,
     "metadata": {},
     "output_type": "execute_result"
    }
   ],
   "source": [
    "import pandas as pd\n",
    "\n",
    "# TODO\n",
    "\n",
    "smiles_list, y_bbbp = ...\n",
    "mols = ...\n"
   ]
  },
  {
   "cell_type": "markdown",
   "id": "10b87cb9010c5627",
   "metadata": {},
   "source": [
    "Great. We have an expressive molecular representation that can be processed by algorithms.\n",
    "\n",
    "But now, how do we build a model, and make sure that it will work well on new molecules?\n",
    "\n",
    "---\n",
    "\n",
    "### Split the data\n",
    "\n",
    "To ensure generalization of the model we're going to create, we want to separate part of the data that we won't use to train the model. We'll only use it to evaluate.\n",
    "\n",
    "We'll pretend that these molecules are \"new\". This kind of splitting is a crucial step in building and validating an ML model.\n",
    "\n",
    "Normally in ML, splitting is performed like this:"
   ]
  },
  {
   "cell_type": "code",
   "execution_count": 16,
   "id": "7a805f0c30da875b",
   "metadata": {
    "ExecuteTime": {
     "end_time": "2025-10-09T09:55:54.313078Z",
     "start_time": "2025-10-09T09:55:54.302373Z"
    }
   },
   "outputs": [
    {
     "name": "stdout",
     "output_type": "stream",
     "text": [
      "Train set size: 1210\n",
      "Test set size: 303\n"
     ]
    }
   ],
   "source": [
    "from sklearn.model_selection import train_test_split\n",
    "import numpy as np\n",
    "\n",
    "train_idxs, test_idxs = train_test_split(range(len(smiles_list)), test_size=0.2)\n",
    "\n",
    "mols_train = np.array(mols)[train_idxs]\n",
    "mols_test = np.array(mols)[test_idxs]\n",
    "\n",
    "y_train = y_bbbp[train_idxs]\n",
    "y_test = y_bbbp[test_idxs]\n",
    "\n",
    "print(f\"Train set size: {len(mols_train)}\")\n",
    "print(f\"Test set size: {len(mols_test)}\")"
   ]
  },
  {
   "cell_type": "markdown",
   "id": "5a3658bedfb9a9b",
   "metadata": {},
   "source": [
    "We created two lists of molecules, and two lists of labels\n",
    "\n",
    "`mols_train` and `y_train` will be used for training. `mols_test` and `y_test` will only be used for evaluation.\n",
    "\n",
    "---\n",
    "\n",
    "### BUT!\n",
    "\n",
    "We can't do a random split in chemoinformatics. It might not give us a good insight into model's performance. New molecules often come from much different distribution than data that is used for training.\n",
    "\n",
    "To simulate that, we want the data in train and test dataset, to have different internal structure - scaffold.\n",
    "\n",
    "scikit-fingerprints implement a split based on the molecular scaffold.\n",
    "\n",
    "**Exercise 2.**\n",
    "- From `model_selection` module of scikit-fingerprints import `scaffold_train_test_split` function.\n",
    "- Call the function on `mols` list of molecules that we created before. use the `test_size` of `0.2`.\n",
    "- Make sure to set `return_indices` argument to `True` - this way, the function will return two lists of indices for training and testing.\n",
    "- Use these newly created list to index the data like in the previous example."
   ]
  },
  {
   "cell_type": "code",
   "execution_count": 17,
   "id": "30288b9079cea7d0",
   "metadata": {
    "ExecuteTime": {
     "end_time": "2025-10-09T09:55:54.562087Z",
     "start_time": "2025-10-09T09:55:54.320556Z"
    }
   },
   "outputs": [
    {
     "name": "stdout",
     "output_type": "stream",
     "text": [
      "Train set size: 1210\n",
      "Test set size: 303\n"
     ]
    }
   ],
   "source": [
    "from skfp.model_selection import scaffold_train_test_split\n",
    "\n",
    "train_idxs, test_idxs = scaffold_train_test_split(\n",
    "    mols, test_size=0.2, return_indices=True\n",
    ")\n",
    "\n",
    "# split mols and labels\n",
    "mols_train = np.array(mols)[train_idxs]\n",
    "mols_test = np.array(mols)[test_idxs]\n",
    "\n",
    "y_train = y_bbbp[train_idxs]\n",
    "y_test = y_bbbp[test_idxs]\n",
    "\n",
    "print(f\"Train set size: {len(mols_train)}\")\n",
    "print(f\"Test set size: {len(mols_test)}\")"
   ]
  },
  {
   "cell_type": "markdown",
   "id": "d90af57cd1aecb7c",
   "metadata": {},
   "source": [
    "### Molecular fingerprints\n",
    "\n",
    "Molecular fingerprints are algorithms that transform molecular graphs to vector representations, by extracting meaningful features from the graph.\n",
    "\n",
    "Most popular predictive models work on fixed-size vectors. Graphs are non-euclidean, permutation-invariant and variable-size structures so they can't be directly represented as such.\n",
    "\n",
    "Molecular fingerprints allow us to create vector representation for molecular graphs by encoding some information about them.\n",
    "\n",
    "Here we show a use of an example molecular fingerprint - MACCS Keys."
   ]
  },
  {
   "cell_type": "code",
   "execution_count": 19,
   "id": "32ca913827cd906f",
   "metadata": {
    "ExecuteTime": {
     "end_time": "2025-10-09T09:56:00.676999Z",
     "start_time": "2025-10-09T09:55:54.606476Z"
    }
   },
   "outputs": [
    {
     "name": "stdout",
     "output_type": "stream",
     "text": [
      "Fingerprint data shape: (1210, 166)\n",
      "Example vector: [0 0 0 0 0 0 0 0 0 0 0 0 0 0 0 0 0 0 0 0 0 1 0 0 0 0 0 0 0 0 0 0 0 0 0 1 0\n",
      " 1 0 0 0 0 0 0 0 0 0 0 1 0 0 0 0 0 0 0 0 0 0 0 0 0 0 0 0 1 0 0 0 0 0 0 0 1\n",
      " 0 0 1 1 0 0 0 0 1 0 0 0 1 1 0 0 1 0 0 0 1 1 0 1 0 0 1 0 1 1 1 0 1 0 0 0 1\n",
      " 1 0 0 1 0 0 1 1 1 1 0 1 0 1 0 0 1 1 0 0 0 1 1 0 0 1 0 0 0 0 1 0 1 1 0 1 0\n",
      " 1 1 1 0 0 1 1 1 1 1 1 1 1 1 1 1 1 0]\n"
     ]
    }
   ],
   "source": [
    "from skfp.fingerprints import MACCSFingerprint\n",
    "\n",
    "# create fingerprint transformer object\n",
    "maccs_fp = MACCSFingerprint(n_jobs=-1)\n",
    "\n",
    "# transform molecules into feature vectors\n",
    "X_train_maccs = maccs_fp.transform(mols_train)\n",
    "X_test_maccs = maccs_fp.transform(mols_test)\n",
    "\n",
    "print(f\"Fingerprint data shape: {X_train_maccs.shape}\")\n",
    "print(f\"Example vector: {X_train_maccs[0]}\")"
   ]
  },
  {
   "cell_type": "markdown",
   "id": "c95dfde966f0e901",
   "metadata": {},
   "source": [
    "Now, each of our molecules is represented as a vector of constant size 166.\n",
    "\n",
    "---\n",
    "\n",
    "### ECFP\n",
    "\n",
    "In further code we will use an Extended Connectivity fingerprint (ECFP)\n",
    "\n",
    "---\n",
    "\n",
    "---\n",
    "\n",
    "# TODO - opisać\n",
    "\n",
    "---\n",
    "\n",
    "---\n",
    "\n",
    "**Exercise 3.**\n",
    "- Just liek in previous example, import the ECFPFingerprint.\n",
    "- Create the fingerpirnt object instance.\n",
    "    - Set `count` argument to `True`\n",
    "    - Set `fp_size` to 1024\n",
    "    - Set `n_jobs` to `-1` for parallel processing\n",
    "- Transform the `mols_train` and `mols_test` to `ecfp_train` and `ecfp_test`\n",
    "    - In case of problems, remember that you performed a similar transformation before, using `MolFromSmiles`"
   ]
  },
  {
   "cell_type": "code",
   "execution_count": 20,
   "id": "9022cccee9bb2ba4",
   "metadata": {
    "ExecuteTime": {
     "end_time": "2025-10-09T09:56:00.785037Z",
     "start_time": "2025-10-09T09:56:00.690167Z"
    }
   },
   "outputs": [
    {
     "name": "stdout",
     "output_type": "stream",
     "text": [
      "Fingerprint data shape: (1210, 1024)\n",
      "Example vector: [0 1 0 ... 0 0 0]\n"
     ]
    }
   ],
   "source": [
    "from skfp.fingerprints import ECFPFingerprint\n",
    "\n",
    "# create fingerprint transformer object\n",
    "ecfp_fp = ECFPFingerprint(radius=3, count=True, fp_size=1024, n_jobs=-1)\n",
    "\n",
    "# transform molecules into feature vectors\n",
    "ecfp_train = ecfp_fp.transform(mols_train)\n",
    "ecfp_test = ecfp_fp.transform(mols_test)\n",
    "\n",
    "print(f\"Fingerprint data shape: {ecfp_train.shape}\")\n",
    "print(f\"Example vector: {ecfp_test[0]}\")"
   ]
  },
  {
   "cell_type": "markdown",
   "id": "bb5940663958a92e",
   "metadata": {},
   "source": [
    "Now yor data is ready for training!\n",
    "\n",
    "---\n",
    "\n",
    "### Train the model\n",
    "\n",
    "Here we show how to train the random forest model using molecules transformed with ECFP, and compute the AUROC metric in order to evaluate the performance on test data."
   ]
  },
  {
   "cell_type": "code",
   "execution_count": 21,
   "id": "ac451943751f6a08",
   "metadata": {
    "ExecuteTime": {
     "end_time": "2025-10-09T09:56:00.907483Z",
     "start_time": "2025-10-09T09:56:00.787051Z"
    }
   },
   "outputs": [
    {
     "name": "stdout",
     "output_type": "stream",
     "text": [
      "ECFP AUROC for Random Forest: 76.87%\n"
     ]
    }
   ],
   "source": [
    "from sklearn.ensemble import RandomForestClassifier\n",
    "from sklearn.metrics import roc_auc_score\n",
    "from skfp.metrics import multioutput_auroc_score\n",
    "\n",
    "clf = RandomForestClassifier(n_jobs=-1, random_state=0)\n",
    "clf.fit(ecfp_train, y_train)\n",
    "\n",
    "# We want to extract class probability\n",
    "y_pred = clf.predict_proba(ecfp_test)[:, 1]\n",
    "\n",
    "auroc = roc_auc_score(y_test, y_pred)\n",
    "\n",
    "print(f\"ECFP AUROC for Random Forest: {auroc:.2%}\")"
   ]
  },
  {
   "cell_type": "markdown",
   "id": "a4dc91f108ddc4d2",
   "metadata": {},
   "source": [
    "---\n",
    "\n",
    "### Distances\n",
    "\n",
    "scikit-fingerprints allows us to compute distances between molecules and thier fingerprint representations.\n",
    "\n",
    "We use the tanimoto distance in its count variant, since our fingerprint is based on counting subgraphs.\n",
    "\n",
    "This is the formula for count tanimoto distance:\n",
    "\n",
    "$$\n",
    "\\text{dist}(\\vec{a}, \\vec{b}) = 1 - \\frac{\\vec{a} \\cdot \\vec{b}}{\\|\\vec{a}\\|^2 + \\|\\vec{b}\\|^2 - \\vec{a} \\cdot \\vec{b}}\n",
    "$$\n",
    "\n",
    "It also has a simpler binary variant:\n",
    "\n",
    "$$\n",
    "\\text{dist}(\\vec{a}, \\vec{b}) = 1 - \\frac{|\\vec{a} \\cap \\vec{b}|}{|\\vec{a}| + |\\vec{b}| - |\\vec{a} \\cap \\vec{b}|}\n",
    "$$\n",
    "\n",
    "\n",
    "If you're interested why Tanimoto distance is used, see e.g. [\"Why is Tanimoto index an appropriate choice for fingerprint-based similarity calculations?\" D. Bajusz et al.](https://doi.org/10.1186/s13321-015-0069-3)."
   ]
  },
  {
   "cell_type": "code",
   "execution_count": 22,
   "id": "ab6a9bfb9263da5a",
   "metadata": {
    "ExecuteTime": {
     "end_time": "2025-10-09T09:56:00.925479Z",
     "start_time": "2025-10-09T09:56:00.921883Z"
    }
   },
   "outputs": [
    {
     "data": {
      "text/plain": [
       "0.7264150943396226"
      ]
     },
     "execution_count": 22,
     "metadata": {},
     "output_type": "execute_result"
    }
   ],
   "source": [
    "from skfp.distances import tanimoto_count_distance\n",
    "\n",
    "tanimoto_count_distance(ecfp_train[0], ecfp_train[1])"
   ]
  },
  {
   "cell_type": "markdown",
   "id": "6393c614e99f16c5",
   "metadata": {},
   "source": [
    "---\n",
    "\n",
    "### KNN training\n",
    "\n",
    "This is very useful when using models that rely on distance between data points.\n",
    "\n",
    "One of such models is K-Nearest Neighbors.\n",
    "\n",
    "**Exercise 4.**\n",
    "\n",
    "- Import KNeighborsClassifier\n",
    "- Instantiate it with `n_jobs` equal to `-1`. Pass the tanimoto count distance function as `metric` argument\n",
    "- Perform training\n",
    "- Get probability prediction\n",
    "- Compute AUROC metric"
   ]
  },
  {
   "cell_type": "code",
   "execution_count": 23,
   "id": "912fcbf797125f37",
   "metadata": {
    "ExecuteTime": {
     "end_time": "2025-10-09T09:56:06.609463Z",
     "start_time": "2025-10-09T09:56:00.955062Z"
    }
   },
   "outputs": [
    {
     "name": "stdout",
     "output_type": "stream",
     "text": [
      "ECFP AUROC for kNN: 77.64%\n"
     ]
    }
   ],
   "source": [
    "from sklearn.neighbors import KNeighborsClassifier\n",
    "\n",
    "# create kNN model with appropriate metric\n",
    "clf = KNeighborsClassifier(n_jobs=-1, metric=tanimoto_count_distance)\n",
    "\n",
    "# fit, predict\n",
    "clf.fit(ecfp_train, y_train)\n",
    "y_pred = clf.predict_proba(ecfp_test)[:, 1]\n",
    "\n",
    "# calculate and print AUROC score\n",
    "print(f\"ECFP AUROC for kNN: {multioutput_auroc_score(y_test, y_pred):.2%}\")"
   ]
  },
  {
   "cell_type": "markdown",
   "id": "3ecf958624e4ac83",
   "metadata": {},
   "source": [
    "---\n",
    "\n",
    "**Final Exercise 5.**\n",
    "\n",
    "Based on the knowledge you acquired, try to build your own prediction procedure on ApisTox dataset. Load and transform the data, perform a split and train the model"
   ]
  },
  {
   "metadata": {},
   "cell_type": "code",
   "outputs": [],
   "execution_count": null,
   "source": "",
   "id": "fe25bfbee4825ce6"
  }
 ],
 "metadata": {
  "kernelspec": {
   "display_name": "Python 3 (ipykernel)",
   "language": "python",
   "name": "python3"
  },
  "language_info": {
   "codemirror_mode": {
    "name": "ipython",
    "version": 3
   },
   "file_extension": ".py",
   "mimetype": "text/x-python",
   "name": "python",
   "nbconvert_exporter": "python",
   "pygments_lexer": "ipython3",
   "version": "3.11.13"
  }
 },
 "nbformat": 4,
 "nbformat_minor": 5
}
